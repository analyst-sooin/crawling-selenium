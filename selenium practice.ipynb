{
 "cells": [
  {
   "cell_type": "code",
   "execution_count": 10,
   "metadata": {},
   "outputs": [
    {
     "name": "stdout",
     "output_type": "stream",
     "text": [
      "Welcome to Python.org\n",
      "https://www.python.org/\n",
      "Download Python for Other Platforms\n",
      "Python Documentation by Version\n",
      "Python 2.5.3\n",
      "Python 2.5.4 Release\n",
      "Python 2.5.4\n",
      "Python 2.5.3 Release\n",
      "Python 2.5 Release\n",
      "Python 2.5.2 Release\n",
      "Sunsetting Python 2\n",
      "Python 2.5.1 Release\n",
      "Python 3.1.4\n",
      "Python 2.5.0\n",
      "Python 2.5.2\n",
      "Python 3.1.4 Release\n",
      "Python 3.1.3 Release\n",
      "Python 2.5.1\n",
      "Python 3.2.1 Release\n",
      "Python 2.7.9rc1\n",
      "Python 3.0 Release\n",
      "Python 3.2.5 Release\n"
     ]
    }
   ],
   "source": [
    "from selenium import webdriver\n",
    "from selenium.webdriver.common.keys import Keys\n",
    "import time\n",
    "\n",
    "chromedriver = '/usr/local/Cellar/chromedriver/chromedriver'\n",
    "driver = webdriver.Chrome(chromedriver)\n",
    "\n",
    "driver.get('http://www.python.org')\n",
    "print(driver.title)\n",
    "print(driver.current_url)\n",
    "\n",
    "assert \"Python\" in driver.title\n",
    "\n",
    "search = driver.find_element_by_id(\"id-search-field\")\n",
    "search.clear()\n",
    "search.send_keys(\"python\")\n",
    "search.send_keys(Keys.RETURN)\n",
    "# ---- 키보드로 입력값을 넣어준것\n",
    "\n",
    "time.sleep(2)\n",
    "\n",
    "assert \"No results found.\" not in driver.page_source\n",
    "\n",
    "data = driver.find_elements_by_css_selector(\"#content > div > section > form > ul > li > h3 > a\")\n",
    "for item in data:\n",
    "    print (item.text)\n"
   ]
  },
  {
   "cell_type": "code",
   "execution_count": 21,
   "metadata": {},
   "outputs": [
    {
     "name": "stdout",
     "output_type": "stream",
     "text": [
      "지난달 24일 출시된 모바일게임 '포켓몬고'가 출시 1주일여만에 우리나라 거리 풍경을 크게 바꿔놨다. 번화가나 공원 등 거리 곳곳에서 손에 스마트폰을 들고 '포켓몬'을 사냥하는 모습을 손쉽게 찾아볼 수 있게 된 것이다.다른 국가에 비해 반년 가량 늦게 출시됐음에도 불구, 이용자 수가 700만명에 육박한 것으로 알려졌다. 우리나라 국민 10명 중 1명은 지난 1주일 사이에 한번은 포켓몬고 게임을 해봤다는 얘기다.\n",
      "\n",
      "지역경제 활성화에도 도움이 되고 있다. 포켓몬이 자주 출몰하는 지역으로 입소문을 탄 지역 편의점 매출이 급증하는 현상도 나타났다. 지난해 여름, 강원도 속초가 '포켓몬고' 특수를 톡톡히 누린 것과 비슷한 현상이 전국 곳곳에서 나타나고 있는 것이다.\n",
      "\n",
      "■우리 국민 10명 중 1명은 '포켓몬고' 게이머\n",
      "\n",
      "애플리케이션(앱) 분석업체 와이즈앱은 2일 전국 2만3000명의 안드로이드 스마트폰 사용자 표본조사를 바탕으로 추정한 지난 1주일간 '포켓몬고' 이용자는 698만명이라고 발표했다. 특히 10대와 20대 이용자들이 '포켓몬고'에 열광하고 있는 것으로 나타났다. 전체 이용자의 65% 이상이 10대와 20대다.\n",
      "\n",
      "이 게임 개발사인 나이언틱랩스가 설 연휴 직전에 출시한 전략도 제대로 맞아 떨어졌다. 지난 설 연휴, 고향에서 가족과 친지들이 모여 '포켓몬고'를 즐기는 모습이 곳곳에서 눈에 띄였다. 고속도로 휴게소 등에서도 포켓몬고 이용자들도 많았다.\n",
      "\n",
      "전국 번화가와 공원 등 게임 내 주요 장소인 '포켓스톱'으로 지정된 곳이 많은 지역은 '포켓몬고' 게이머들로 붐볐다. 서울 노원역, 이수역, 강남역, 잠실역 등 번화가와 부산 시민공원, 대전 오월드, 제천 의림지 등 전국 주요 장소로 '포켓몬'을 찾는 이들이 몰려들었다.\n",
      "\n",
      "지역 명소를 찾는 이들도 부쩍 늘었다. 주로 교회나 절, 조형물 등이 '포켓스톱'으로 지정돼 있기 때문에 평소에는 그냥 지나쳤던 명소를 다시 한번 돌아보게 되는 계기가 됐다는 게이머들도 많다.\n",
      "\n",
      "업계 관계자는 \"포켓스톱은 포켓몬고를 즐기기 위해 반드시 지나쳐야 하는 곳이기 때문에 평소엔 그냥 지나쳤더라도 요즘엔 멈춰서서 다시 한번 보는 경우가 많다\"며 \"겨울철이라 집안에만 있기 쉽지만 포켓몬고를 하기 위해 밖으로 걸어다니기 때문에 건강에도 긍정적\"이라고 언급했다.\n",
      "\n",
      "■'포켓몬고' 인기에 지역 상권도 '후광효과'\n",
      "\n",
      "포켓몬고는 지역 상권에도 영향을 주고 있다. '포켓몬'이 자주 출몰하는 이른바 '포세권'의 편의점은 후광효과를 톡톡히 보고 있다. 포켓몬을 쫓아온 게이머들이 대거 몰리면서 휴대폰 충전기와 핫팩은 물론 음료,간식 등의 매출이 쑥쑥 오르는 상황이다.\n",
      "\n",
      "세븐일레븐의 경우 포켓몬고 게임이 출시된 지난달 24일 이후 지난 1일까지 9일간 매출이 게임 출시 직전 9일에 비해 휴대폰 관련 용품 매출이 61.3%, 핫팩은 66.2%증가했다. 탄산음료와 컵라면,스낵과자도 같은 기간 매출이 33.5%,22%,16.3% 올랐다.\n",
      "\n",
      "'포세권'으로 입소문을 탄 부산시민공원점도 휴대용용품과 핫팩 매출이 각각 54%, 60.5% 늘었고 간식류 매출도 10~20% 증가했다. GS25의 대전오월드점은 같은 기간 커피와 차는 매출이 420%, 휴대폰 용품과 핫팩은 각각 271%, 268% 급증했다. 라면(46%)을 비롯한 간식류 매출도 크게 늘었다.\n",
      "\n",
      "세븐일레븐 관계자는 \"포켓몬고 이용자들이 많이 몰리는 지역 점포들의 관련 상품 매출이 크게 오르고 있다\"면서 \"수요가 높은 상품군 위주로 재고를 늘리고 진열도 확대하는 등 포켓몬고 특수에 대응하고 있다\"고 말했다.\n",
      "\n",
      "■일부 부작용도 있어 '주의'\n",
      "\n",
      "게임이 인기를 끌면서 일부 부작용도 나타나고 있어 이용자들의 주의가 요구된다. 출입이 금지된 구역에 등장하는 '포켓몬'을 획득하기 위해 금지구역을 넘어서거나 운전하면서 포켓몬고를 즐기는 사례가 잇따라 보고되고 있다. 해외에서도 '포켓몬고' 출시 당시 이런 부작용이 속출했는데 우리나라도 비슷한 현상을 겪고 있는 것이다.\n",
      "\n",
      "나이언틱랩스는 특정 속도 이상 빠르게 움직이면 '포켓몬'을 사냥할 수 없도록 하고 게임 도중 출입금지 구역에 가지 말라고 여러차례 공지하고 있다.\n",
      "\n",
      "jjoony@fnnews.com 허준 이환주 기자\n",
      "※ 저작권자 ⓒ . 무단 전재-재배포 금지\n"
     ]
    }
   ],
   "source": [
    "from selenium import webdriver\n",
    "from selenium.webdriver.common.keys import Keys\n",
    "import time\n",
    "\n",
    "chromedriver = '/usr/local/Cellar/chromedriver/chromedriver'\n",
    "driver = webdriver.Chrome(chromedriver)\n",
    "\n",
    "driver.get('https://news.v.daum.net/v/20170202185812986')\n",
    "title = driver.find_element_by_id('harmonyContainer')\n",
    "print(title.text)\n",
    "\n",
    "driver.quit()"
   ]
  },
  {
   "cell_type": "code",
   "execution_count": 49,
   "metadata": {},
   "outputs": [],
   "source": [
    "from selenium import webdriver\n",
    "from selenium.webdriver.common.keys import Keys\n",
    "import time\n",
    "\n",
    "chromedriver = '/usr/local/Cellar/chromedriver/chromedriver'\n",
    "driver = webdriver.Chrome(chromedriver)\n",
    "\n",
    "driver.get('https://www.instagram.com/')\n",
    "\n",
    "time.sleep(3)\n",
    "id_field = driver.find_element_by_xpath(\"//*[@id='react-root']/section/main/article/div[2]/div[1]/div/form/div[2]/div/label/input\")\n",
    "id_field.send_keys('')\n",
    "pw_field = driver.find_element_by_xpath(\"//*[@id='react-root']/section/main/article/div[2]/div[1]/div/form/div[3]/div/label/input\")\n",
    "pw_field.send_keys('')\n",
    "pw_field.send_keys(Keys.RETURN)\n",
    "\n",
    "time.sleep(3)\n",
    "\n",
    "search_field = driver.find_element_by_xpath(\"//*[@id='react-root']/section/nav/div[2]/div/div/div[2]/input\")\n",
    "search_field.send_keys('디스커버리')\n",
    "search_field.send_keys(Keys.RETURN)\n",
    "search_field.send_keys(Keys.RETURN)\n",
    "# driver.quit()"
   ]
  },
  {
   "cell_type": "code",
   "execution_count": null,
   "metadata": {},
   "outputs": [],
   "source": []
  },
  {
   "cell_type": "code",
   "execution_count": null,
   "metadata": {},
   "outputs": [],
   "source": []
  },
  {
   "cell_type": "code",
   "execution_count": null,
   "metadata": {},
   "outputs": [],
   "source": []
  },
  {
   "cell_type": "code",
   "execution_count": null,
   "metadata": {},
   "outputs": [],
   "source": []
  },
  {
   "cell_type": "code",
   "execution_count": null,
   "metadata": {},
   "outputs": [],
   "source": []
  },
  {
   "cell_type": "code",
   "execution_count": null,
   "metadata": {},
   "outputs": [],
   "source": []
  },
  {
   "cell_type": "code",
   "execution_count": null,
   "metadata": {},
   "outputs": [],
   "source": []
  }
 ],
 "metadata": {
  "kernelspec": {
   "display_name": "Python 3",
   "language": "python",
   "name": "python3"
  },
  "language_info": {
   "codemirror_mode": {
    "name": "ipython",
    "version": 3
   },
   "file_extension": ".py",
   "mimetype": "text/x-python",
   "name": "python",
   "nbconvert_exporter": "python",
   "pygments_lexer": "ipython3",
   "version": "3.7.4"
  }
 },
 "nbformat": 4,
 "nbformat_minor": 2
}
